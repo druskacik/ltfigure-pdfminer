{
 "cells": [
  {
   "cell_type": "code",
   "execution_count": 24,
   "metadata": {},
   "outputs": [],
   "source": [
    "import pandas as pd\n",
    "impfrom pdfminer.pdfparser import PDFParser\n",
    "from pdfminer.pdfpage import PDFPage\n",
    "from pdfminer.pdfinterp import PDFResourceManager\n",
    "from pdfminer.pdfinterp import PDFPageInterpreter\n",
    "from pdfminer.layout import LAParams, LTTextBox\n",
    "from pdfminer.converter import PDFPageAggregator\n",
    "import pdfminer"
   ]
  },
  {
   "cell_type": "code",
   "execution_count": 23,
   "metadata": {},
   "outputs": [],
   "source": [
    "def parse_full_document(pdf_file_path):\n",
    "    \n",
    "    f = open(pdf_file_path, 'rb')\n",
    "    \n",
    "    rsrcmgr = PDFResourceManager()\n",
    "    laparams = LAParams()\n",
    "    device = PDFPageAggregator(rsrcmgr, laparams=laparams)\n",
    "    interpreter = PDFPageInterpreter(rsrcmgr, device)\n",
    "    pages = PDFPage.get_pages(f)\n",
    "    \n",
    "    texts = []\n",
    "    figures = []\n",
    "    \n",
    "    for page in pages:\n",
    "        interpreter.process_page(page)\n",
    "        layout = device.get_result()\n",
    "        for lobj in layout:\n",
    "            \n",
    "            if isinstance(lobj, LTTextBox):\n",
    "\n",
    "                text = lobj.get_text()\n",
    "                texts.append(text)\n",
    "\n",
    "            else:\n",
    "                figures.append(lobj)\n",
    "            \n",
    "    return texts, figures"
   ]
  },
  {
   "cell_type": "code",
   "execution_count": 15,
   "metadata": {},
   "outputs": [],
   "source": [
    "fp = 'document.pdf'"
   ]
  },
  {
   "cell_type": "code",
   "execution_count": 16,
   "metadata": {},
   "outputs": [],
   "source": [
    "texts, figures = parse_full_document(fp)"
   ]
  },
  {
   "cell_type": "code",
   "execution_count": 19,
   "metadata": {},
   "outputs": [
    {
     "data": {
      "text/plain": [
       "['                                            \\n',\n",
       " ' \\n',\n",
       " '  \\n',\n",
       " ' \\n',\n",
       " ' \\n',\n",
       " ' \\n',\n",
       " 'Spoločnosť xxxxxxxxx (ďalej len Spoločnosť), bola založená 14. septembra  2004 a do obchodného registra bola\\nzapísaná 14.septembra 2004 (Obchodný register Okresného súdu Žilina I v Žiline, oddiel s.r.o., vložka 10089/L).  \\n',\n",
       " 'A.  INFORMÁCIE O ÚČTOVNEJ JEDNOTKE \\n',\n",
       " '1.  Založenie spoločnosti \\n',\n",
       " ' \\n2.  Hlavnými činnosťami Spoločnosti sú: \\n',\n",
       " 'výroba kovových spojov do automatov v rozsahu voľnej živnosti  \\n \\n \\n',\n",
       " '3.  Počet zamestnancov  \\n',\n",
       " 'Údaje  o počte  zamestnancov  za  bežné  účtovné  obdobie  a bezprostredne  predchádzajúce  účtovné  obdobie  sú  uvedené  v nasledujúcom \\nprehľade: \\n \\n',\n",
       " '4.  Údaje o neobmedzenom ručení \\n',\n",
       " 'Spoločnosť nie je neobmedzene ručiacim spoločníkom v iných spoločnostiach podľa § 56 ods. 5 Obchodného zákonníka. \\n \\n',\n",
       " '5.  Právny dôvod na zostavenie účtovnej závierky \\n \\n',\n",
       " 'Účtovná  závierka  Spoločnosti  k  31.  decembru  2014  je  zostavená  ako  riadna  účtovná  závierka  podľa  §  17  ods.  6  zákona  NR SR  č. \\n431/2002 Z. z. o účtovníctve za účtovné obdobie od 1. januára 2014 do 31. decembra 2014. \\n',\n",
       " ' \\n6.  Dátum schválenia účtovnej závierky za predchádzajúce účtovné obdobie \\n \\n',\n",
       " 'Účtovná  závierka  Spoločnosti  k  31.  decembru  2013,  za  predchádzajúce  účtovné  obdobie,  bola  schválená  valným  zhromaždením \\nSpoločnosti 30.06.2014 \\n',\n",
       " ' \\n7.  Zverejnenie účtovnej závierky za predchádzajúce účtovné obdobie \\n',\n",
       " 'Účtovná  závierka  Spoločnosti  k 31.  decembru  2013  spolu  so  správou  audítora  o overení  účtovnej  závierky  k 31.  decembru  2013  bola \\nuložená do zbierky listín obchodného registra 9. októbra 2014.  \\n \\n',\n",
       " '8.  Schválenie audítora \\n',\n",
       " 'Valné  zhromaždenie  30.  júna  2014    schválilo  spoločnosť  TPA  Horwath  A&A,  s.r.o.  ako  audítora  na  overenie  účtovnej  závierky  za \\núčtovné obdobie od 1. januára 2014 do 31. decembra 2014 \\n \\n',\n",
       " 'INFORMÁCIE O ORGÁNOCH ÚČTOVNEJ JEDNOTKY \\n',\n",
       " ' \\n',\n",
       " ' \\n',\n",
       " ' \\n',\n",
       " ' \\n',\n",
       " 'C.  INFORMÁCIE O SPOLOČNÍKOCH ÚČTOVNEJ JEDNOTKY \\n',\n",
       " ' \\n',\n",
       " ' \\n',\n",
       " ' \\n',\n",
       " ' \\n',\n",
       " ' \\n',\n",
       " 'B. \\n \\n',\n",
       " ' \\n',\n",
       " ' \\n',\n",
       " ' \\n',\n",
       " ' \\n',\n",
       " '2 \\n']"
      ]
     },
     "execution_count": 19,
     "metadata": {},
     "output_type": "execute_result"
    }
   ],
   "source": [
    "texts"
   ]
  },
  {
   "cell_type": "code",
   "execution_count": 21,
   "metadata": {},
   "outputs": [
    {
     "data": {
      "text/plain": [
       "[<LTRect 35.160,761.640,35.640,762.120>,\n",
       " <LTRect 35.160,761.640,35.640,762.120>,\n",
       " <LTRect 35.640,761.640,141.500,762.120>,\n",
       " <LTRect 141.500,761.640,141.980,762.120>,\n",
       " <LTRect 141.500,761.640,141.980,762.120>,\n",
       " <LTRect 347.110,761.640,347.590,762.120>,\n",
       " <LTRect 347.110,761.640,347.590,762.120>,\n",
       " <LTRect 347.590,761.640,361.270,762.120>,\n",
       " <LTRect 361.270,761.640,361.750,762.120>,\n",
       " <LTRect 361.750,761.640,375.430,762.120>,\n",
       " <LTRect 375.430,761.640,375.910,762.120>,\n",
       " <LTRect 375.910,761.640,389.590,762.120>,\n",
       " <LTRect 389.590,761.640,390.070,762.120>,\n",
       " <LTRect 390.070,761.640,403.750,762.120>,\n",
       " <LTRect 403.750,761.640,404.230,762.120>,\n",
       " <LTRect 404.230,761.640,418.030,762.120>,\n",
       " <LTRect 418.030,761.640,418.510,762.120>,\n",
       " <LTRect 418.510,761.640,432.190,762.120>,\n",
       " <LTRect 432.190,761.640,432.670,762.120>,\n",
       " <LTRect 432.670,761.640,446.374,762.120>,\n",
       " <LTRect 446.380,761.640,446.860,762.120>,\n",
       " <LTRect 446.860,761.640,460.540,762.120>,\n",
       " <LTRect 460.540,761.640,461.020,762.120>,\n",
       " <LTRect 461.020,761.640,474.700,762.120>,\n",
       " <LTRect 474.700,761.640,475.180,762.120>,\n",
       " <LTRect 475.180,761.640,488.860,762.120>,\n",
       " <LTRect 488.860,761.640,489.340,762.120>,\n",
       " <LTRect 488.860,761.640,489.340,762.120>,\n",
       " <LTRect 35.160,746.740,35.640,761.644>,\n",
       " <LTRect 35.160,746.260,35.640,746.740>,\n",
       " <LTRect 35.160,746.260,35.640,746.740>,\n",
       " <LTRect 35.640,746.260,141.500,746.740>,\n",
       " <LTRect 141.500,746.740,141.980,761.644>,\n",
       " <LTRect 141.500,746.260,141.980,746.740>,\n",
       " <LTRect 141.500,746.260,141.980,746.740>,\n",
       " <LTRect 347.110,746.740,347.590,761.644>,\n",
       " <LTRect 347.110,746.260,347.590,746.740>,\n",
       " <LTRect 347.110,746.260,347.590,746.740>,\n",
       " <LTRect 347.590,746.260,361.270,746.740>,\n",
       " <LTRect 361.270,746.740,361.750,761.644>,\n",
       " <LTRect 361.270,746.260,361.750,746.740>,\n",
       " <LTRect 361.750,746.260,375.430,746.740>,\n",
       " <LTRect 375.430,746.740,375.910,761.644>,\n",
       " <LTRect 375.430,746.260,375.910,746.740>,\n",
       " <LTRect 375.910,746.260,389.590,746.740>,\n",
       " <LTRect 389.590,746.740,390.070,761.644>,\n",
       " <LTRect 389.590,746.260,390.070,746.740>,\n",
       " <LTRect 390.070,746.260,403.750,746.740>,\n",
       " <LTRect 403.750,746.740,404.230,761.644>,\n",
       " <LTRect 403.750,746.260,404.230,746.740>,\n",
       " <LTRect 404.230,746.260,418.030,746.740>,\n",
       " <LTRect 418.030,746.740,418.510,761.644>,\n",
       " <LTRect 418.030,746.260,418.510,746.740>,\n",
       " <LTRect 418.510,746.260,432.190,746.740>,\n",
       " <LTRect 432.190,746.740,432.670,761.644>,\n",
       " <LTRect 432.190,746.260,432.670,746.740>,\n",
       " <LTRect 432.670,746.260,446.374,746.740>,\n",
       " <LTRect 446.380,746.740,446.860,761.644>,\n",
       " <LTRect 446.380,746.260,446.860,746.740>,\n",
       " <LTRect 446.860,746.260,460.540,746.740>,\n",
       " <LTRect 460.540,746.740,461.020,761.644>,\n",
       " <LTRect 460.540,746.260,461.020,746.740>,\n",
       " <LTRect 461.020,746.260,474.700,746.740>,\n",
       " <LTRect 474.700,746.740,475.180,761.644>,\n",
       " <LTRect 474.700,746.260,475.180,746.740>,\n",
       " <LTRect 475.180,746.260,488.860,746.740>,\n",
       " <LTRect 488.860,746.740,489.340,761.644>,\n",
       " <LTRect 488.860,746.260,489.340,746.740>,\n",
       " <LTRect 488.860,746.260,489.340,746.740>,\n",
       " <LTRect 56.760,644.860,319.510,656.740>,\n",
       " <LTFigure(Meta25) 56.810,495.060,497.465,582.662 matrix=[1.03,0.00,0.00,1.02, (56.81,495.06)]>,\n",
       " <LTFigure(Meta35) 57.310,72.310,497.558,195.915 matrix=[1.01,0.00,0.00,1.00, (57.31,72.31)]>,\n",
       " <LTRect 56.760,195.890,57.240,196.370>,\n",
       " <LTRect 56.760,195.890,57.240,196.370>,\n",
       " <LTRect 57.240,195.890,497.620,196.370>,\n",
       " <LTRect 497.620,195.890,498.100,196.370>,\n",
       " <LTRect 497.620,195.890,498.100,196.370>,\n",
       " <LTRect 56.760,72.264,57.240,195.884>,\n",
       " <LTRect 497.620,72.264,498.100,195.884>,\n",
       " <LTRect 56.760,71.784,57.240,72.264>,\n",
       " <LTRect 56.760,71.784,57.240,72.264>,\n",
       " <LTRect 57.240,71.784,497.620,72.264>,\n",
       " <LTRect 497.620,71.784,498.100,72.264>,\n",
       " <LTRect 497.620,71.784,498.100,72.264>]"
      ]
     },
     "execution_count": 21,
     "metadata": {},
     "output_type": "execute_result"
    }
   ],
   "source": [
    "figures"
   ]
  },
  {
   "cell_type": "code",
   "execution_count": null,
   "metadata": {},
   "outputs": [],
   "source": []
  }
 ],
 "metadata": {
  "kernelspec": {
   "display_name": "Python 3",
   "language": "python",
   "name": "python3"
  },
  "language_info": {
   "codemirror_mode": {
    "name": "ipython",
    "version": 3
   },
   "file_extension": ".py",
   "mimetype": "text/x-python",
   "name": "python",
   "nbconvert_exporter": "python",
   "pygments_lexer": "ipython3",
   "version": "3.7.7"
  }
 },
 "nbformat": 4,
 "nbformat_minor": 4
}
